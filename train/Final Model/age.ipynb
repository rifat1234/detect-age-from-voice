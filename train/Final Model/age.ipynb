{
 "cells": [
  {
   "cell_type": "markdown",
   "id": "122dc05e",
   "metadata": {
    "id": "valued-canvas",
    "papermill": {
     "duration": 0.015249,
     "end_time": "2024-03-15T17:08:03.576854",
     "exception": false,
     "start_time": "2024-03-15T17:08:03.561605",
     "status": "completed"
    },
    "tags": []
   },
   "source": [
    "## **ML-Model to detect gender age based on his/her voice**   \n",
    "In this notebook, I am using a common-voice dataset to train a model for detecting age of\n",
    "a person based on his/her voice"
   ]
  },
  {
   "cell_type": "markdown",
   "id": "8cf2fabe",
   "metadata": {
    "id": "mature-calculation",
    "papermill": {
     "duration": 0.015315,
     "end_time": "2024-03-15T17:08:03.607663",
     "exception": false,
     "start_time": "2024-03-15T17:08:03.592348",
     "status": "completed"
    },
    "tags": []
   },
   "source": [
    "### **Stepwise ML-model development**  \n",
    "This notebook is created for beginners to develop age detection ml-model with stepwise approach using common-voice dataset.\n",
    "The notebook include following steps:\n",
    "* Data Collection\n",
    "* Data Pre-processing\n",
    "* Feature Engineering\n",
    "* Model Selection\n",
    "* Model Analysis\n",
    "* Model Deployment"
   ]
  },
  {
   "cell_type": "code",
   "execution_count": 1,
   "id": "d7b9c9fd",
   "metadata": {
    "execution": {
     "iopub.execute_input": "2024-03-15T17:08:03.640497Z",
     "iopub.status.busy": "2024-03-15T17:08:03.640042Z",
     "iopub.status.idle": "2024-03-15T17:08:03.654372Z",
     "shell.execute_reply": "2024-03-15T17:08:03.653069Z"
    },
    "id": "1Li2LI-2G_97",
    "papermill": {
     "duration": 0.034675,
     "end_time": "2024-03-15T17:08:03.657333",
     "exception": false,
     "start_time": "2024-03-15T17:08:03.622658",
     "status": "completed"
    },
    "tags": []
   },
   "outputs": [],
   "source": [
    "is_kaggle = True\n",
    "if is_kaggle:\n",
    "    test_location = \"../input/common-voice/cv-valid-test.csv\"\n",
    "    train_location = \"../input/common-voice/cv-valid-train.csv\"\n",
    "    test_file_location = \"/kaggle/input/common-voice/cv-valid-test/\"\n",
    "    train_file_location = \"/kaggle/input/common-voice/cv-valid-train/\"\n",
    "else:\n",
    "    test_location = \"/content/drive/MyDrive/Data/Diss/cv-valid-test.csv\"\n",
    "    train_location = \"/content/drive/MyDrive/Data/Diss/cv-valid-train.csv\"\n",
    "    train_file_location = \"/content/drive/MyDrive/Data/Diss/train/\"\n",
    "    test_file_location = \"/content/drive/MyDrive/Data/Diss/cv-valid-test/\"\n"
   ]
  },
  {
   "cell_type": "code",
   "execution_count": 2,
   "id": "b71fd1ba",
   "metadata": {
    "execution": {
     "iopub.execute_input": "2024-03-15T17:08:03.689044Z",
     "iopub.status.busy": "2024-03-15T17:08:03.688580Z",
     "iopub.status.idle": "2024-03-15T17:08:03.693725Z",
     "shell.execute_reply": "2024-03-15T17:08:03.692561Z"
    },
    "id": "aienu8AulNv3",
    "outputId": "303043df-7f63-4028-960d-d727d242b672",
    "papermill": {
     "duration": 0.024125,
     "end_time": "2024-03-15T17:08:03.696292",
     "exception": false,
     "start_time": "2024-03-15T17:08:03.672167",
     "status": "completed"
    },
    "tags": []
   },
   "outputs": [],
   "source": [
    "if is_kaggle == False:\n",
    "    from google.colab import drive\n",
    "    drive.mount('/content/drive')"
   ]
  },
  {
   "cell_type": "markdown",
   "id": "97d0f255",
   "metadata": {
    "id": "guilty-lecture",
    "papermill": {
     "duration": 0.014638,
     "end_time": "2024-03-15T17:08:03.726039",
     "exception": false,
     "start_time": "2024-03-15T17:08:03.711401",
     "status": "completed"
    },
    "tags": []
   },
   "source": [
    "### **Step-01 Data Collection**  \n",
    "In this step the data is loaded and explored. The data is understood with basic graphs and to check if the dataset is balanced."
   ]
  },
  {
   "cell_type": "code",
   "execution_count": 3,
   "id": "e9967a8e",
   "metadata": {
    "execution": {
     "iopub.execute_input": "2024-03-15T17:08:03.758499Z",
     "iopub.status.busy": "2024-03-15T17:08:03.758050Z",
     "iopub.status.idle": "2024-03-15T17:08:07.958757Z",
     "shell.execute_reply": "2024-03-15T17:08:07.957132Z"
    },
    "id": "tracked-equality",
    "outputId": "f8b5941b-1235-403e-dd3f-b580a59f461d",
    "papermill": {
     "duration": 4.220048,
     "end_time": "2024-03-15T17:08:07.961609",
     "exception": false,
     "start_time": "2024-03-15T17:08:03.741561",
     "status": "completed"
    },
    "tags": []
   },
   "outputs": [
    {
     "name": "stdout",
     "output_type": "stream",
     "text": [
      "195776\n"
     ]
    },
    {
     "data": {
      "text/html": [
       "<div>\n",
       "<style scoped>\n",
       "    .dataframe tbody tr th:only-of-type {\n",
       "        vertical-align: middle;\n",
       "    }\n",
       "\n",
       "    .dataframe tbody tr th {\n",
       "        vertical-align: top;\n",
       "    }\n",
       "\n",
       "    .dataframe thead th {\n",
       "        text-align: right;\n",
       "    }\n",
       "</style>\n",
       "<table border=\"1\" class=\"dataframe\">\n",
       "  <thead>\n",
       "    <tr style=\"text-align: right;\">\n",
       "      <th></th>\n",
       "      <th>filename</th>\n",
       "      <th>text</th>\n",
       "      <th>up_votes</th>\n",
       "      <th>down_votes</th>\n",
       "      <th>age</th>\n",
       "      <th>gender</th>\n",
       "      <th>accent</th>\n",
       "      <th>duration</th>\n",
       "    </tr>\n",
       "  </thead>\n",
       "  <tbody>\n",
       "    <tr>\n",
       "      <th>119879</th>\n",
       "      <td>cv-valid-train/sample-119879.mp3</td>\n",
       "      <td>the boy observed in silence the progress of th...</td>\n",
       "      <td>3</td>\n",
       "      <td>0</td>\n",
       "      <td>fourties</td>\n",
       "      <td>male</td>\n",
       "      <td>newzealand</td>\n",
       "      <td>NaN</td>\n",
       "    </tr>\n",
       "    <tr>\n",
       "      <th>103694</th>\n",
       "      <td>cv-valid-train/sample-103694.mp3</td>\n",
       "      <td>we'd better forget it</td>\n",
       "      <td>1</td>\n",
       "      <td>0</td>\n",
       "      <td>twenties</td>\n",
       "      <td>male</td>\n",
       "      <td>us</td>\n",
       "      <td>NaN</td>\n",
       "    </tr>\n",
       "    <tr>\n",
       "      <th>131932</th>\n",
       "      <td>cv-valid-train/sample-131932.mp3</td>\n",
       "      <td>air was either entering or escaping at the rim...</td>\n",
       "      <td>4</td>\n",
       "      <td>0</td>\n",
       "      <td>teens</td>\n",
       "      <td>male</td>\n",
       "      <td>australia</td>\n",
       "      <td>NaN</td>\n",
       "    </tr>\n",
       "    <tr>\n",
       "      <th>146867</th>\n",
       "      <td>cv-valid-train/sample-146867.mp3</td>\n",
       "      <td>as soon as he saw me among the crowd he called...</td>\n",
       "      <td>2</td>\n",
       "      <td>1</td>\n",
       "      <td>NaN</td>\n",
       "      <td>NaN</td>\n",
       "      <td>NaN</td>\n",
       "      <td>NaN</td>\n",
       "    </tr>\n",
       "    <tr>\n",
       "      <th>121958</th>\n",
       "      <td>cv-valid-train/sample-121958.mp3</td>\n",
       "      <td>two days later the merchant spoke to the boy a...</td>\n",
       "      <td>2</td>\n",
       "      <td>1</td>\n",
       "      <td>twenties</td>\n",
       "      <td>male</td>\n",
       "      <td>NaN</td>\n",
       "      <td>NaN</td>\n",
       "    </tr>\n",
       "  </tbody>\n",
       "</table>\n",
       "</div>"
      ],
      "text/plain": [
       "                                filename  \\\n",
       "119879  cv-valid-train/sample-119879.mp3   \n",
       "103694  cv-valid-train/sample-103694.mp3   \n",
       "131932  cv-valid-train/sample-131932.mp3   \n",
       "146867  cv-valid-train/sample-146867.mp3   \n",
       "121958  cv-valid-train/sample-121958.mp3   \n",
       "\n",
       "                                                     text  up_votes  \\\n",
       "119879  the boy observed in silence the progress of th...         3   \n",
       "103694                              we'd better forget it         1   \n",
       "131932  air was either entering or escaping at the rim...         4   \n",
       "146867  as soon as he saw me among the crowd he called...         2   \n",
       "121958  two days later the merchant spoke to the boy a...         2   \n",
       "\n",
       "        down_votes       age gender      accent  duration  \n",
       "119879           0  fourties   male  newzealand       NaN  \n",
       "103694           0  twenties   male          us       NaN  \n",
       "131932           0     teens   male   australia       NaN  \n",
       "146867           1       NaN    NaN         NaN       NaN  \n",
       "121958           1  twenties   male         NaN       NaN  "
      ]
     },
     "execution_count": 3,
     "metadata": {},
     "output_type": "execute_result"
    }
   ],
   "source": [
    "import numpy as np # linear algebra\n",
    "import pandas as pd # data processing, CSV file I/O (e.g. pd.read_csv)\n",
    "import matplotlib.pyplot as plt # visualizing data\n",
    "import seaborn as sns # visualizing data with stunning default theme\n",
    "import sklearn # contain algorithms\n",
    "import warnings\n",
    "from sklearn.model_selection import RandomizedSearchCV, GridSearchCV\n",
    "import matplotlib.pyplot as plt\n",
    "import seaborn as sns\n",
    "from sklearn.linear_model import LogisticRegression\n",
    "from sklearn.neighbors import KNeighborsClassifier\n",
    "from sklearn.naive_bayes import GaussianNB\n",
    "from sklearn.metrics import accuracy_score, log_loss, recall_score, precision_score\n",
    "from sklearn.neighbors import KNeighborsClassifier\n",
    "from sklearn.svm import SVC, LinearSVC, NuSVC\n",
    "from sklearn.tree import DecisionTreeClassifier\n",
    "from sklearn.ensemble import RandomForestClassifier, AdaBoostClassifier, GradientBoostingClassifier\n",
    "from sklearn.discriminant_analysis import LinearDiscriminantAnalysis\n",
    "from sklearn.discriminant_analysis import QuadraticDiscriminantAnalysis\n",
    "from sklearn.pipeline import Pipeline\n",
    "from sklearn.compose import ColumnTransformer\n",
    "from sklearn.preprocessing import MinMaxScaler\n",
    "warnings.filterwarnings('ignore')\n",
    "\n",
    "# load dataset from input directory\n",
    "df = pd.read_csv(train_location)\n",
    "df[df['age'].notna()].head()\n",
    "df = df.sample(frac=1.0, random_state=42)\n",
    "print(len(df))\n",
    "df.tail()"
   ]
  },
  {
   "cell_type": "code",
   "execution_count": 4,
   "id": "54cd84e9",
   "metadata": {
    "execution": {
     "iopub.execute_input": "2024-03-15T17:08:07.994387Z",
     "iopub.status.busy": "2024-03-15T17:08:07.993921Z",
     "iopub.status.idle": "2024-03-15T17:08:08.031827Z",
     "shell.execute_reply": "2024-03-15T17:08:08.030676Z"
    },
    "id": "C74ohJiFuguN",
    "outputId": "b23e1ad0-058f-4461-d5dd-51e4b531d9ec",
    "papermill": {
     "duration": 0.05761,
     "end_time": "2024-03-15T17:08:08.034671",
     "exception": false,
     "start_time": "2024-03-15T17:08:07.977061",
     "status": "completed"
    },
    "tags": []
   },
   "outputs": [
    {
     "data": {
      "text/html": [
       "<div>\n",
       "<style scoped>\n",
       "    .dataframe tbody tr th:only-of-type {\n",
       "        vertical-align: middle;\n",
       "    }\n",
       "\n",
       "    .dataframe tbody tr th {\n",
       "        vertical-align: top;\n",
       "    }\n",
       "\n",
       "    .dataframe thead th {\n",
       "        text-align: right;\n",
       "    }\n",
       "</style>\n",
       "<table border=\"1\" class=\"dataframe\">\n",
       "  <thead>\n",
       "    <tr style=\"text-align: right;\">\n",
       "      <th></th>\n",
       "      <th>filename</th>\n",
       "      <th>text</th>\n",
       "      <th>up_votes</th>\n",
       "      <th>down_votes</th>\n",
       "      <th>age</th>\n",
       "      <th>gender</th>\n",
       "      <th>accent</th>\n",
       "      <th>duration</th>\n",
       "    </tr>\n",
       "  </thead>\n",
       "  <tbody>\n",
       "    <tr>\n",
       "      <th>3976</th>\n",
       "      <td>cv-valid-test/sample-003976.mp3</td>\n",
       "      <td>we've got her located</td>\n",
       "      <td>1</td>\n",
       "      <td>0</td>\n",
       "      <td>thirties</td>\n",
       "      <td>male</td>\n",
       "      <td>england</td>\n",
       "      <td>NaN</td>\n",
       "    </tr>\n",
       "    <tr>\n",
       "      <th>3979</th>\n",
       "      <td>cv-valid-test/sample-003979.mp3</td>\n",
       "      <td>she has all your features</td>\n",
       "      <td>1</td>\n",
       "      <td>0</td>\n",
       "      <td>thirties</td>\n",
       "      <td>male</td>\n",
       "      <td>NaN</td>\n",
       "      <td>NaN</td>\n",
       "    </tr>\n",
       "    <tr>\n",
       "      <th>3980</th>\n",
       "      <td>cv-valid-test/sample-003980.mp3</td>\n",
       "      <td>i've got to see nicole right away</td>\n",
       "      <td>1</td>\n",
       "      <td>0</td>\n",
       "      <td>fifties</td>\n",
       "      <td>male</td>\n",
       "      <td>australia</td>\n",
       "      <td>NaN</td>\n",
       "    </tr>\n",
       "    <tr>\n",
       "      <th>3984</th>\n",
       "      <td>cv-valid-test/sample-003984.mp3</td>\n",
       "      <td>but there were certain of them who took a bit ...</td>\n",
       "      <td>2</td>\n",
       "      <td>0</td>\n",
       "      <td>thirties</td>\n",
       "      <td>male</td>\n",
       "      <td>NaN</td>\n",
       "      <td>NaN</td>\n",
       "    </tr>\n",
       "    <tr>\n",
       "      <th>3989</th>\n",
       "      <td>cv-valid-test/sample-003989.mp3</td>\n",
       "      <td>i'm playing for keeps</td>\n",
       "      <td>2</td>\n",
       "      <td>0</td>\n",
       "      <td>fifties</td>\n",
       "      <td>male</td>\n",
       "      <td>australia</td>\n",
       "      <td>NaN</td>\n",
       "    </tr>\n",
       "  </tbody>\n",
       "</table>\n",
       "</div>"
      ],
      "text/plain": [
       "                             filename  \\\n",
       "3976  cv-valid-test/sample-003976.mp3   \n",
       "3979  cv-valid-test/sample-003979.mp3   \n",
       "3980  cv-valid-test/sample-003980.mp3   \n",
       "3984  cv-valid-test/sample-003984.mp3   \n",
       "3989  cv-valid-test/sample-003989.mp3   \n",
       "\n",
       "                                                   text  up_votes  down_votes  \\\n",
       "3976                              we've got her located         1           0   \n",
       "3979                          she has all your features         1           0   \n",
       "3980                  i've got to see nicole right away         1           0   \n",
       "3984  but there were certain of them who took a bit ...         2           0   \n",
       "3989                              i'm playing for keeps         2           0   \n",
       "\n",
       "           age gender     accent  duration  \n",
       "3976  thirties   male    england       NaN  \n",
       "3979  thirties   male        NaN       NaN  \n",
       "3980   fifties   male  australia       NaN  \n",
       "3984  thirties   male        NaN       NaN  \n",
       "3989   fifties   male  australia       NaN  "
      ]
     },
     "execution_count": 4,
     "metadata": {},
     "output_type": "execute_result"
    }
   ],
   "source": [
    "df_test = pd.read_csv(test_location)\n",
    "df_test[df_test['age'].notna()].tail()"
   ]
  },
  {
   "cell_type": "code",
   "execution_count": 5,
   "id": "7ccae146",
   "metadata": {
    "execution": {
     "iopub.execute_input": "2024-03-15T17:08:08.068153Z",
     "iopub.status.busy": "2024-03-15T17:08:08.067712Z",
     "iopub.status.idle": "2024-03-15T17:08:08.541459Z",
     "shell.execute_reply": "2024-03-15T17:08:08.540228Z"
    },
    "id": "caroline-family",
    "outputId": "d4aca1dd-dc56-4856-d93b-c853e268df33",
    "papermill": {
     "duration": 0.493481,
     "end_time": "2024-03-15T17:08:08.544088",
     "exception": false,
     "start_time": "2024-03-15T17:08:08.050607",
     "status": "completed"
    },
    "tags": []
   },
   "outputs": [
    {
     "data": {
      "image/png": "[encoded data removed]",
      "text/plain": [
       "<Figure size 1500x500 with 1 Axes>"
      ]
     },
     "metadata": {},
     "output_type": "display_data"
    }
   ],
   "source": [
    "sns.set(rc={'figure.figsize':(15, 5)})\n",
    "sns.countplot(x=\"age\",\n",
    "        data=df[df['age'].notna()],\n",
    "        order=['teens', 'twenties', 'thirties', 'fourties', 'fifties', 'sixties', 'seventies', 'eighties'])\n",
    "\n",
    "plt.show()\n"
   ]
  },
  {
   "cell_type": "code",
   "execution_count": 6,
   "id": "3ed6381c",
   "metadata": {
    "execution": {
     "iopub.execute_input": "2024-03-15T17:08:08.578442Z",
     "iopub.status.busy": "2024-03-15T17:08:08.578032Z",
     "iopub.status.idle": "2024-03-15T17:08:08.932595Z",
     "shell.execute_reply": "2024-03-15T17:08:08.931290Z"
    },
    "id": "v8fLLNEOumOx",
    "outputId": "72c23304-dd2f-47a8-f99e-d60d1976dcdd",
    "papermill": {
     "duration": 0.375088,
     "end_time": "2024-03-15T17:08:08.935406",
     "exception": false,
     "start_time": "2024-03-15T17:08:08.560318",
     "status": "completed"
    },
    "tags": []
   },
   "outputs": [
    {
     "data": {
      "image/png": "[encoded data removed]",
      "text/plain": [
       "<Figure size 1500x500 with 1 Axes>"
      ]
     },
     "metadata": {},
     "output_type": "display_data"
    }
   ],
   "source": [
    "sns.set(rc={'figure.figsize':(15, 5)})\n",
    "sns.countplot(x=\"age\",\n",
    "        data=df_test[df_test['age'].notna()],\n",
    "        order=['teens', 'twenties', 'thirties', 'fourties', 'fifties', 'sixties', 'seventies', 'eighties'])\n",
    "\n",
    "plt.show()"
   ]
  },
  {
   "cell_type": "code",
   "execution_count": 7,
   "id": "ade0bae4",
   "metadata": {
    "execution": {
     "iopub.execute_input": "2024-03-15T17:08:08.971037Z",
     "iopub.status.busy": "2024-03-15T17:08:08.969908Z",
     "iopub.status.idle": "2024-03-15T17:08:09.601359Z",
     "shell.execute_reply": "2024-03-15T17:08:09.599729Z"
    },
    "id": "persistent-resistance",
    "outputId": "67b60dcb-a5c7-4dcb-ba10-a16838b8b578",
    "papermill": {
     "duration": 0.652048,
     "end_time": "2024-03-15T17:08:09.604072",
     "exception": false,
     "start_time": "2024-03-15T17:08:08.952024",
     "status": "completed"
    },
    "tags": []
   },
   "outputs": [
    {
     "data": {
      "image/png": "[encoded data removed]",
      "text/plain": [
       "<Figure size 1500x500 with 1 Axes>"
      ]
     },
     "metadata": {},
     "output_type": "display_data"
    }
   ],
   "source": [
    "sns.countplot(x=\"age\",\n",
    "        hue='gender',\n",
    "        data=df[df['age'].notna()],\n",
    "        order=['teens', 'twenties', 'thirties', 'fourties', 'fifties', 'sixties', 'seventies', 'eighties'])\n",
    "\n",
    "plt.show()"
   ]
  },
  {
   "cell_type": "code",
   "execution_count": 8,
   "id": "e5653eeb",
   "metadata": {
    "execution": {
     "iopub.execute_input": "2024-03-15T17:08:09.641739Z",
     "iopub.status.busy": "2024-03-15T17:08:09.640592Z",
     "iopub.status.idle": "2024-03-15T17:08:10.110798Z",
     "shell.execute_reply": "2024-03-15T17:08:10.109511Z"
    },
    "id": "jzrUmLRevd3y",
    "outputId": "e2e856d0-92a8-47f5-99a7-a0d02b9eaf3d",
    "papermill": {
     "duration": 0.491974,
     "end_time": "2024-03-15T17:08:10.113667",
     "exception": false,
     "start_time": "2024-03-15T17:08:09.621693",
     "status": "completed"
    },
    "tags": []
   },
   "outputs": [
    {
     "data": {
      "image/png": "[encoded data removed]",
      "text/plain": [
       "<Figure size 1500x500 with 1 Axes>"
      ]
     },
     "metadata": {},
     "output_type": "display_data"
    }
   ],
   "source": [
    "sns.countplot(x=\"age\",\n",
    "        hue='gender',\n",
    "        data=df_test[df_test['age'].notna()],\n",
    "        order=['teens', 'twenties', 'thirties', 'fourties', 'fifties', 'sixties', 'seventies', 'eighties'])\n",
    "\n",
    "plt.show()"
   ]
  },
  {
   "cell_type": "code",
   "execution_count": 9,
   "id": "0257015b",
   "metadata": {
    "execution": {
     "iopub.execute_input": "2024-03-15T17:08:10.217095Z",
     "iopub.status.busy": "2024-03-15T17:08:10.216645Z",
     "iopub.status.idle": "2024-03-15T17:08:11.833394Z",
     "shell.execute_reply": "2024-03-15T17:08:11.831693Z"
    },
    "id": "romantic-excuse",
    "outputId": "ccb671f1-c4b3-4ed9-be81-ba093046c35c",
    "papermill": {
     "duration": 1.705013,
     "end_time": "2024-03-15T17:08:11.837141",
     "exception": false,
     "start_time": "2024-03-15T17:08:10.132128",
     "status": "completed"
    },
    "tags": []
   },
   "outputs": [
    {
     "data": {
      "image/png": "[encoded data removed]",
      "text/plain": [
       "<Figure size 1907.88x500 with 1 Axes>"
      ]
     },
     "metadata": {},
     "output_type": "display_data"
    }
   ],
   "source": [
    "sns.displot(x=\"accent\",\n",
    "        data=df[df['accent'].notna()],\n",
    "        hue='gender',\n",
    "        multiple='stack',\n",
    "        height=5, aspect=18/5)\n",
    "\n",
    "plt.show()"
   ]
  },
  {
   "cell_type": "code",
   "execution_count": 10,
   "id": "bce9d2a7",
   "metadata": {
    "execution": {
     "iopub.execute_input": "2024-03-15T17:08:11.878749Z",
     "iopub.status.busy": "2024-03-15T17:08:11.878288Z",
     "iopub.status.idle": "2024-03-15T17:08:13.141775Z",
     "shell.execute_reply": "2024-03-15T17:08:13.140446Z"
    },
    "id": "Ng0u9Q41vn2Q",
    "outputId": "df82ffac-7426-484a-8d77-f69590df35ba",
    "papermill": {
     "duration": 1.287858,
     "end_time": "2024-03-15T17:08:13.144653",
     "exception": false,
     "start_time": "2024-03-15T17:08:11.856795",
     "status": "completed"
    },
    "tags": []
   },
   "outputs": [
    {
     "data": {
      "image/png": "[encoded data removed]",
      "text/plain": [
       "<Figure size 1907.88x500 with 1 Axes>"
      ]
     },
     "metadata": {},
     "output_type": "display_data"
    }
   ],
   "source": [
    "sns.displot(x=\"accent\",\n",
    "        data=df_test[df_test['accent'].notna()],\n",
    "        hue='gender',\n",
    "        multiple='stack',\n",
    "        height=5, aspect=18/5)\n",
    "\n",
    "plt.show()"
   ]
  },
  {
   "cell_type": "code",
   "execution_count": 11,
   "id": "94fa1bdb",
   "metadata": {
    "execution": {
     "iopub.execute_input": "2024-03-15T17:08:13.186574Z",
     "iopub.status.busy": "2024-03-15T17:08:13.186165Z",
     "iopub.status.idle": "2024-03-15T17:08:13.877675Z",
     "shell.execute_reply": "2024-03-15T17:08:13.876215Z"
    },
    "id": "detected-profession",
    "outputId": "6fba43c5-f299-4fac-9437-1b38534430ed",
    "papermill": {
     "duration": 0.716182,
     "end_time": "2024-03-15T17:08:13.880492",
     "exception": false,
     "start_time": "2024-03-15T17:08:13.164310",
     "status": "completed"
    },
    "tags": []
   },
   "outputs": [
    {
     "name": "stdout",
     "output_type": "stream",
     "text": [
      "initial: (195776, 8) final: (63163, 8)\n"
     ]
    },
    {
     "data": {
      "image/png": "[encoded data removed]",
      "text/plain": [
       "<Figure size 1500x500 with 1 Axes>"
      ]
     },
     "metadata": {},
     "output_type": "display_data"
    }
   ],
   "source": [
    "#del df['duration']\n",
    "start=df.shape\n",
    "#df.isna().sum()\n",
    "end = df[df['age'].notna()& df['gender'].notna() & df['accent'].notna()].shape\n",
    "print(\"initial: {} final: {}\".format(start, end))\n",
    "sns.countplot(x=\"age\",\n",
    "        hue='gender',\n",
    "        data=df[df['age'].notna()& df['gender'].notna() & df['accent'].notna()],\n",
    "        order=['teens', 'twenties', 'thirties', 'fourties', 'fifties', 'sixties', 'seventies', 'eighties'])\n",
    "\n",
    "plt.show()"
   ]
  },
  {
   "cell_type": "code",
   "execution_count": 12,
   "id": "b07d06f1",
   "metadata": {
    "execution": {
     "iopub.execute_input": "2024-03-15T17:08:13.924560Z",
     "iopub.status.busy": "2024-03-15T17:08:13.924143Z",
     "iopub.status.idle": "2024-03-15T17:08:14.397673Z",
     "shell.execute_reply": "2024-03-15T17:08:14.396756Z"
    },
    "id": "xuNLvox9xRXr",
    "outputId": "1619f871-32e0-4591-9349-c7031f1c8809",
    "papermill": {
     "duration": 0.498435,
     "end_time": "2024-03-15T17:08:14.400087",
     "exception": false,
     "start_time": "2024-03-15T17:08:13.901652",
     "status": "completed"
    },
    "tags": []
   },
   "outputs": [
    {
     "name": "stdout",
     "output_type": "stream",
     "text": [
      "initial: (3995, 8) final: (1320, 8)\n"
     ]
    },
    {
     "data": {
      "image/png": "[encoded data removed]",
      "text/plain": [
       "<Figure size 1500x500 with 1 Axes>"
      ]
     },
     "metadata": {},
     "output_type": "display_data"
    }
   ],
   "source": [
    "#del df['duration']\n",
    "start=df_test.shape\n",
    "#df.isna().sum()\n",
    "end = df_test[df_test['age'].notna()& df_test['gender'].notna() & df_test['accent'].notna()].shape\n",
    "print(\"initial: {} final: {}\".format(start, end))\n",
    "sns.countplot(x=\"age\",\n",
    "        hue='gender',\n",
    "        data=df_test[df_test['age'].notna()& df_test['gender'].notna() & df_test['accent'].notna()],\n",
    "        order=['teens', 'twenties', 'thirties', 'fourties', 'fifties', 'sixties', 'seventies', 'eighties'])\n",
    "\n",
    "plt.show()"
   ]
  },
  {
   "cell_type": "markdown",
   "id": "beef6ebe",
   "metadata": {
    "id": "abroad-connectivity",
    "papermill": {
     "duration": 0.020224,
     "end_time": "2024-03-15T17:08:14.441667",
     "exception": false,
     "start_time": "2024-03-15T17:08:14.421443",
     "status": "completed"
    },
    "tags": []
   },
   "source": [
    "#### **First-step findings**\n",
    "We understood the dataset and also found that the dataset is imbalance. To refine the dataset for ml-model, we need to perform pre-processing in next-step."
   ]
  },
  {
   "cell_type": "markdown",
   "id": "6fc2b64e",
   "metadata": {
    "id": "acquired-richmond",
    "papermill": {
     "duration": 0.020257,
     "end_time": "2024-03-15T17:08:14.482440",
     "exception": false,
     "start_time": "2024-03-15T17:08:14.462183",
     "status": "completed"
    },
    "tags": []
   },
   "source": [
    "### Data Pre-processing  \n",
    "#### Data Cleaning  \n",
    "In this step we drop entries(samples) with NaN values. The columns that doesn't contribute(unnecessary) to the model are removed. The attributes are checked for its datatypes and changed to an approapriate type."
   ]
  },
  {
   "cell_type": "code",
   "execution_count": null,
   "id": "d3a2abdf",
   "metadata": {
    "id": "beneficial-update",
    "papermill": {
     "duration": 0.020233,
     "end_time": "2024-03-15T17:08:14.523460",
     "exception": false,
     "start_time": "2024-03-15T17:08:14.503227",
     "status": "completed"
    },
    "tags": []
   },
   "outputs": [],
   "source": []
  },
  {
   "cell_type": "code",
   "execution_count": 13,
   "id": "9f2ff860",
   "metadata": {
    "execution": {
     "iopub.execute_input": "2024-03-15T17:08:14.567310Z",
     "iopub.status.busy": "2024-03-15T17:08:14.566563Z",
     "iopub.status.idle": "2024-03-15T17:08:14.606606Z",
     "shell.execute_reply": "2024-03-15T17:08:14.605313Z"
    },
    "id": "eight-victory",
    "outputId": "efcc0bfa-4193-4c55-bf98-db46054ccccd",
    "papermill": {
     "duration": 0.065306,
     "end_time": "2024-03-15T17:08:14.609333",
     "exception": false,
     "start_time": "2024-03-15T17:08:14.544027",
     "status": "completed"
    },
    "tags": []
   },
   "outputs": [
    {
     "data": {
      "text/html": [
       "<div>\n",
       "<style scoped>\n",
       "    .dataframe tbody tr th:only-of-type {\n",
       "        vertical-align: middle;\n",
       "    }\n",
       "\n",
       "    .dataframe tbody tr th {\n",
       "        vertical-align: top;\n",
       "    }\n",
       "\n",
       "    .dataframe thead th {\n",
       "        text-align: right;\n",
       "    }\n",
       "</style>\n",
       "<table border=\"1\" class=\"dataframe\">\n",
       "  <thead>\n",
       "    <tr style=\"text-align: right;\">\n",
       "      <th></th>\n",
       "      <th>filename</th>\n",
       "      <th>age</th>\n",
       "    </tr>\n",
       "  </thead>\n",
       "  <tbody>\n",
       "    <tr>\n",
       "      <th>0</th>\n",
       "      <td>cv-valid-train/sample-114956.mp3</td>\n",
       "      <td>fourties</td>\n",
       "    </tr>\n",
       "    <tr>\n",
       "      <th>1</th>\n",
       "      <td>cv-valid-train/sample-030866.mp3</td>\n",
       "      <td>twenties</td>\n",
       "    </tr>\n",
       "    <tr>\n",
       "      <th>2</th>\n",
       "      <td>cv-valid-train/sample-157709.mp3</td>\n",
       "      <td>thirties</td>\n",
       "    </tr>\n",
       "    <tr>\n",
       "      <th>3</th>\n",
       "      <td>cv-valid-train/sample-080130.mp3</td>\n",
       "      <td>twenties</td>\n",
       "    </tr>\n",
       "    <tr>\n",
       "      <th>4</th>\n",
       "      <td>cv-valid-train/sample-009434.mp3</td>\n",
       "      <td>thirties</td>\n",
       "    </tr>\n",
       "  </tbody>\n",
       "</table>\n",
       "</div>"
      ],
      "text/plain": [
       "                           filename       age\n",
       "0  cv-valid-train/sample-114956.mp3  fourties\n",
       "1  cv-valid-train/sample-030866.mp3  twenties\n",
       "2  cv-valid-train/sample-157709.mp3  thirties\n",
       "3  cv-valid-train/sample-080130.mp3  twenties\n",
       "4  cv-valid-train/sample-009434.mp3  thirties"
      ]
     },
     "execution_count": 13,
     "metadata": {},
     "output_type": "execute_result"
    }
   ],
   "source": [
    "#we extract the columns that we think useful are\n",
    "df = df[['filename','age']]\n",
    "#To clean the data we remove the sample with NaN attribute values.\n",
    "data = df[df['age'].notna()]\n",
    "data.reset_index(inplace=True, drop=True)\n",
    "data.head()"
   ]
  },
  {
   "cell_type": "code",
   "execution_count": 14,
   "id": "c0a63de1",
   "metadata": {
    "execution": {
     "iopub.execute_input": "2024-03-15T17:08:14.653817Z",
     "iopub.status.busy": "2024-03-15T17:08:14.653059Z",
     "iopub.status.idle": "2024-03-15T17:08:14.667862Z",
     "shell.execute_reply": "2024-03-15T17:08:14.666648Z"
    },
    "id": "JCP6apQBx2Tt",
    "outputId": "801308a8-652c-42a1-8183-362b1e8b86da",
    "papermill": {
     "duration": 0.040319,
     "end_time": "2024-03-15T17:08:14.670353",
     "exception": false,
     "start_time": "2024-03-15T17:08:14.630034",
     "status": "completed"
    },
    "tags": []
   },
   "outputs": [
    {
     "data": {
      "text/html": [
       "<div>\n",
       "<style scoped>\n",
       "    .dataframe tbody tr th:only-of-type {\n",
       "        vertical-align: middle;\n",
       "    }\n",
       "\n",
       "    .dataframe tbody tr th {\n",
       "        vertical-align: top;\n",
       "    }\n",
       "\n",
       "    .dataframe thead th {\n",
       "        text-align: right;\n",
       "    }\n",
       "</style>\n",
       "<table border=\"1\" class=\"dataframe\">\n",
       "  <thead>\n",
       "    <tr style=\"text-align: right;\">\n",
       "      <th></th>\n",
       "      <th>filename</th>\n",
       "      <th>age</th>\n",
       "    </tr>\n",
       "  </thead>\n",
       "  <tbody>\n",
       "    <tr>\n",
       "      <th>0</th>\n",
       "      <td>cv-valid-test/sample-000001.mp3</td>\n",
       "      <td>twenties</td>\n",
       "    </tr>\n",
       "    <tr>\n",
       "      <th>1</th>\n",
       "      <td>cv-valid-test/sample-000003.mp3</td>\n",
       "      <td>twenties</td>\n",
       "    </tr>\n",
       "    <tr>\n",
       "      <th>2</th>\n",
       "      <td>cv-valid-test/sample-000005.mp3</td>\n",
       "      <td>twenties</td>\n",
       "    </tr>\n",
       "    <tr>\n",
       "      <th>3</th>\n",
       "      <td>cv-valid-test/sample-000006.mp3</td>\n",
       "      <td>twenties</td>\n",
       "    </tr>\n",
       "    <tr>\n",
       "      <th>4</th>\n",
       "      <td>cv-valid-test/sample-000007.mp3</td>\n",
       "      <td>thirties</td>\n",
       "    </tr>\n",
       "  </tbody>\n",
       "</table>\n",
       "</div>"
      ],
      "text/plain": [
       "                          filename       age\n",
       "0  cv-valid-test/sample-000001.mp3  twenties\n",
       "1  cv-valid-test/sample-000003.mp3  twenties\n",
       "2  cv-valid-test/sample-000005.mp3  twenties\n",
       "3  cv-valid-test/sample-000006.mp3  twenties\n",
       "4  cv-valid-test/sample-000007.mp3  thirties"
      ]
     },
     "execution_count": 14,
     "metadata": {},
     "output_type": "execute_result"
    }
   ],
   "source": [
    "#we extract the columns that we think useful are\n",
    "df_test = df_test[['filename','age']]\n",
    "#To clean the data we remove the sample with NaN attribute values.\n",
    "data_test = df_test[df_test['age'].notna()]\n",
    "data_test.reset_index(inplace=True, drop=True)\n",
    "data_test.head()"
   ]
  },
  {
   "cell_type": "code",
   "execution_count": 15,
   "id": "266ece4a",
   "metadata": {
    "execution": {
     "iopub.execute_input": "2024-03-15T17:08:14.714002Z",
     "iopub.status.busy": "2024-03-15T17:08:14.713135Z",
     "iopub.status.idle": "2024-03-15T17:08:14.719630Z",
     "shell.execute_reply": "2024-03-15T17:08:14.718235Z"
    },
    "id": "hungarian-suffering",
    "outputId": "1d76ea04-d656-43c9-9244-07284f674c85",
    "papermill": {
     "duration": 0.03126,
     "end_time": "2024-03-15T17:08:14.722302",
     "exception": false,
     "start_time": "2024-03-15T17:08:14.691042",
     "status": "completed"
    },
    "tags": []
   },
   "outputs": [],
   "source": [
    "#data['gender'] = pd.to_numeric(data['gender'],errors = 'coerce')\n",
    "#data.dtypes\n",
    "#if the below code fail to covert gender datatype and values then uncomment above code\n",
    "# cleanup_nums = {\"gender\": {\"male\":1,\"female\":0,\"other\":0.5}}\n",
    "# data = data.replace(cleanup_nums)\n",
    "# data.head()"
   ]
  },
  {
   "cell_type": "code",
   "execution_count": 16,
   "id": "8e8d9e04",
   "metadata": {
    "execution": {
     "iopub.execute_input": "2024-03-15T17:08:14.768210Z",
     "iopub.status.busy": "2024-03-15T17:08:14.767750Z",
     "iopub.status.idle": "2024-03-15T17:08:14.773319Z",
     "shell.execute_reply": "2024-03-15T17:08:14.772076Z"
    },
    "id": "Cb0PCVVyyNt5",
    "outputId": "e7a76453-fc88-42c9-e73c-0b9a1c319ff7",
    "papermill": {
     "duration": 0.030911,
     "end_time": "2024-03-15T17:08:14.775781",
     "exception": false,
     "start_time": "2024-03-15T17:08:14.744870",
     "status": "completed"
    },
    "tags": []
   },
   "outputs": [],
   "source": [
    "#data['gender'] = pd.to_numeric(data['gender'],errors = 'coerce')\n",
    "#data.dtypes\n",
    "#if the below code fail to covert gender datatype and values then uncomment above code\n",
    "# cleanup_nums = {\"gender\": {\"male\":1,\"female\":0,\"other\":0.5}}\n",
    "# data_test = data_test.replace(cleanup_nums)\n",
    "# data_test.head()"
   ]
  },
  {
   "cell_type": "markdown",
   "id": "0b097255",
   "metadata": {
    "id": "substantial-japanese",
    "papermill": {
     "duration": 0.021553,
     "end_time": "2024-03-15T17:08:14.818697",
     "exception": false,
     "start_time": "2024-03-15T17:08:14.797144",
     "status": "completed"
    },
    "tags": []
   },
   "source": [
    "### **Feature Engineering**\n",
    "#### **Feature Extraction**\n",
    "\n",
    "We extract the following features:  \n",
    "The following features are related to audio quality through which the model will learn more effectively. In this project it is not necessary to have good knowledge about the given audio features.\n",
    "**Gender**\n",
    "* **Spectral Centroid**: each frame of a magnitude spectrogram is normalized and treated as a distribution over frequency bins, from which the mean (centroid) is extracted per frame\n",
    "* **Spectral Bandwidth**: compute 2nd-order spectral bandwidth\n",
    "* **Spectral Rolloff**: the center frequency for a spectrogram bin such that at least roll_percent (0.85 by default) of the energy of the spectrum in this frame is contained in this bin and the bins below\n",
    "* **Mel Frequency Cepstral Coefficients (MFCCs)**: a small set of 20 features that describe the overall shape of a spectral envelope\n",
    "\n",
    "**Librosa package**  \n",
    "Librosa is a Python package for music and audio analysis. It provides the building blocks necessary to create the music information retrieval systems. Librosa helps to visualize the audio signals and also do the feature extractions in it using different signal processing techniques."
   ]
  },
  {
   "cell_type": "code",
   "execution_count": 17,
   "id": "81152b51",
   "metadata": {
    "execution": {
     "iopub.execute_input": "2024-03-15T17:08:14.866666Z",
     "iopub.status.busy": "2024-03-15T17:08:14.866178Z",
     "iopub.status.idle": "2024-03-15T17:08:29.806395Z",
     "shell.execute_reply": "2024-03-15T17:08:29.804623Z"
    },
    "id": "recreational-company",
    "outputId": "a18e3836-da9a-4b7c-92ef-ccdf4a0d5998",
    "papermill": {
     "duration": 14.970511,
     "end_time": "2024-03-15T17:08:29.811026",
     "exception": false,
     "start_time": "2024-03-15T17:08:14.840515",
     "status": "completed"
    },
    "tags": []
   },
   "outputs": [
    {
     "name": "stdout",
     "output_type": "stream",
     "text": [
      "73768\n",
      "features:  [4601.892546693295, 4184.876829294083, 8874.338942307691, -402.84665, 99.38197, 4.188054, 26.407892, -19.884447, 27.224535, -21.590702, 13.456141, -11.481952, 2.3348002, -2.8148396, 0.8494334, -1.5375873, -0.5713484, 8.321047, -11.83835, 3.9674804, -5.628197, -0.041303664, -5.6541157]\n"
     ]
    }
   ],
   "source": [
    "import librosa\n",
    "ds_path = train_file_location\n",
    "ds_path_test = test_file_location\n",
    "\n",
    "print(len(data))\n",
    "\n",
    "def update_train_file_path(path):\n",
    "    if is_kaggle:\n",
    "        return path\n",
    "    file_parts = path.split('/')\n",
    "    last_part = file_parts[len(file_parts)-1]\n",
    "    parts = last_part.split('.')\n",
    "    parts = parts[0].split('-')\n",
    "    file_parts.insert(len(file_parts)-1, str(int(parts[1])//1000))\n",
    "    return '/'.join(file_parts)\n",
    "\n",
    "#this function is used to extract audio frequency features\n",
    "def feature_extraction(data, ds_path, filename, sampling_rate=48000, isTraining =  False):\n",
    "    path = \"{}{}\".format(ds_path, filename)\n",
    "    if isTraining == True:\n",
    "        path =  update_train_file_path(path)\n",
    "    features = list()\n",
    "    audio, _ = librosa.load(path, sr=sampling_rate)\n",
    "\n",
    "    #gender = data[data['filename'] == filename].gender.values[0]\n",
    "    spectral_centroid = np.mean(librosa.feature.spectral_centroid(y=audio, sr=sampling_rate))\n",
    "    spectral_bandwidth = np.mean(librosa.feature.spectral_bandwidth(y=audio, sr=sampling_rate))\n",
    "    spectral_rolloff = np.mean(librosa.feature.spectral_rolloff(y=audio, sr=sampling_rate))\n",
    "    #features.append(gender)\n",
    "    features.append(spectral_centroid)\n",
    "    features.append(spectral_bandwidth)\n",
    "    features.append(spectral_rolloff)\n",
    "\n",
    "    mfcc = librosa.feature.mfcc(y=audio, sr=sampling_rate)\n",
    "    for el in mfcc:\n",
    "        features.append(np.mean(el))\n",
    "\n",
    "    return features\n",
    "\n",
    "\n",
    "features = feature_extraction(data, ds_path, data.iloc[0]['filename'], isTraining = True )\n",
    "print(\"features: \", features)"
   ]
  },
  {
   "cell_type": "code",
   "execution_count": 18,
   "id": "02c7dfb1",
   "metadata": {
    "execution": {
     "iopub.execute_input": "2024-03-15T17:08:29.909453Z",
     "iopub.status.busy": "2024-03-15T17:08:29.908765Z",
     "iopub.status.idle": "2024-03-15T17:08:29.989787Z",
     "shell.execute_reply": "2024-03-15T17:08:29.988103Z"
    },
    "id": "MK-BDpwPyu18",
    "outputId": "cfc96023-245a-44f6-fc30-f36a523f2e9d",
    "papermill": {
     "duration": 0.137985,
     "end_time": "2024-03-15T17:08:29.994993",
     "exception": false,
     "start_time": "2024-03-15T17:08:29.857008",
     "status": "completed"
    },
    "tags": []
   },
   "outputs": [
    {
     "name": "stdout",
     "output_type": "stream",
     "text": [
      "features:  [2363.1105869782687, 2442.0145621564366, 4577.484631147541, -485.9729, 120.06984, 18.925766, 22.316969, 26.170475, 10.456684, 1.5410587, 7.424353, 2.6522818, -9.54947, -1.2842348, 4.510566, -3.8151226, -5.117503, 0.8494205, -0.35997397, -1.1878362, 2.7727106, 0.4317596, -4.4032865]\n"
     ]
    }
   ],
   "source": [
    "features_test = feature_extraction(data_test, ds_path_test, data_test.iloc[0]['filename'])\n",
    "print(\"features: \", features_test)"
   ]
  },
  {
   "cell_type": "code",
   "execution_count": 19,
   "id": "5764785c",
   "metadata": {
    "execution": {
     "iopub.execute_input": "2024-03-15T17:08:30.087892Z",
     "iopub.status.busy": "2024-03-15T17:08:30.087156Z",
     "iopub.status.idle": "2024-03-15T19:25:07.636632Z",
     "shell.execute_reply": "2024-03-15T19:25:07.635274Z"
    },
    "id": "satisfactory-design",
    "outputId": "381342e4-41c4-49be-853c-2856b63efca5",
    "papermill": {
     "duration": 8197.599062,
     "end_time": "2024-03-15T19:25:07.639092",
     "exception": false,
     "start_time": "2024-03-15T17:08:30.040030",
     "status": "completed"
    },
    "tags": []
   },
   "outputs": [
    {
     "name": "stdout",
     "output_type": "stream",
     "text": [
      "55000/73767"
     ]
    },
    {
     "data": {
      "text/html": [
       "<div>\n",
       "<style scoped>\n",
       "    .dataframe tbody tr th:only-of-type {\n",
       "        vertical-align: middle;\n",
       "    }\n",
       "\n",
       "    .dataframe tbody tr th {\n",
       "        vertical-align: top;\n",
       "    }\n",
       "\n",
       "    .dataframe thead th {\n",
       "        text-align: right;\n",
       "    }\n",
       "</style>\n",
       "<table border=\"1\" class=\"dataframe\">\n",
       "  <thead>\n",
       "    <tr style=\"text-align: right;\">\n",
       "      <th></th>\n",
       "      <th>spectral_centroid</th>\n",
       "      <th>spectral_bandwidth</th>\n",
       "      <th>spectral_rolloff</th>\n",
       "      <th>mfcc1</th>\n",
       "      <th>mfcc2</th>\n",
       "      <th>mfcc3</th>\n",
       "      <th>mfcc4</th>\n",
       "      <th>mfcc5</th>\n",
       "      <th>mfcc6</th>\n",
       "      <th>mfcc7</th>\n",
       "      <th>...</th>\n",
       "      <th>mfcc12</th>\n",
       "      <th>mfcc13</th>\n",
       "      <th>mfcc14</th>\n",
       "      <th>mfcc15</th>\n",
       "      <th>mfcc16</th>\n",
       "      <th>mfcc17</th>\n",
       "      <th>mfcc18</th>\n",
       "      <th>mfcc19</th>\n",
       "      <th>mfcc20</th>\n",
       "      <th>label</th>\n",
       "    </tr>\n",
       "  </thead>\n",
       "  <tbody>\n",
       "    <tr>\n",
       "      <th>0</th>\n",
       "      <td>4601.892547</td>\n",
       "      <td>4184.876829</td>\n",
       "      <td>8874.338942</td>\n",
       "      <td>-402.846649</td>\n",
       "      <td>99.381973</td>\n",
       "      <td>4.188054</td>\n",
       "      <td>26.407892</td>\n",
       "      <td>-19.884447</td>\n",
       "      <td>27.224535</td>\n",
       "      <td>-21.590702</td>\n",
       "      <td>...</td>\n",
       "      <td>0.849433</td>\n",
       "      <td>-1.537587</td>\n",
       "      <td>-0.571348</td>\n",
       "      <td>8.321047</td>\n",
       "      <td>-11.838350</td>\n",
       "      <td>3.967480</td>\n",
       "      <td>-5.628197</td>\n",
       "      <td>-0.041304</td>\n",
       "      <td>-5.654116</td>\n",
       "      <td>fourties</td>\n",
       "    </tr>\n",
       "    <tr>\n",
       "      <th>1</th>\n",
       "      <td>2287.110065</td>\n",
       "      <td>2410.712019</td>\n",
       "      <td>4503.499717</td>\n",
       "      <td>-374.544037</td>\n",
       "      <td>119.650620</td>\n",
       "      <td>-8.716018</td>\n",
       "      <td>44.255966</td>\n",
       "      <td>28.027670</td>\n",
       "      <td>34.503090</td>\n",
       "      <td>7.806761</td>\n",
       "      <td>...</td>\n",
       "      <td>-11.060529</td>\n",
       "      <td>-2.205300</td>\n",
       "      <td>0.734262</td>\n",
       "      <td>-9.192008</td>\n",
       "      <td>-2.799100</td>\n",
       "      <td>-5.585814</td>\n",
       "      <td>-2.370799</td>\n",
       "      <td>6.278462</td>\n",
       "      <td>2.681469</td>\n",
       "      <td>twenties</td>\n",
       "    </tr>\n",
       "    <tr>\n",
       "      <th>2</th>\n",
       "      <td>2143.145131</td>\n",
       "      <td>1883.691525</td>\n",
       "      <td>3939.783309</td>\n",
       "      <td>-359.217804</td>\n",
       "      <td>118.844490</td>\n",
       "      <td>-14.806021</td>\n",
       "      <td>22.941675</td>\n",
       "      <td>21.304485</td>\n",
       "      <td>-8.363414</td>\n",
       "      <td>4.514751</td>\n",
       "      <td>...</td>\n",
       "      <td>-11.471552</td>\n",
       "      <td>-9.679022</td>\n",
       "      <td>-16.488588</td>\n",
       "      <td>-8.958996</td>\n",
       "      <td>-3.920002</td>\n",
       "      <td>-6.187822</td>\n",
       "      <td>-3.866070</td>\n",
       "      <td>-6.310972</td>\n",
       "      <td>-4.986303</td>\n",
       "      <td>thirties</td>\n",
       "    </tr>\n",
       "    <tr>\n",
       "      <th>3</th>\n",
       "      <td>1719.269771</td>\n",
       "      <td>1411.006731</td>\n",
       "      <td>2833.510540</td>\n",
       "      <td>-471.531097</td>\n",
       "      <td>146.751495</td>\n",
       "      <td>-11.641893</td>\n",
       "      <td>-1.372401</td>\n",
       "      <td>11.657462</td>\n",
       "      <td>-2.695865</td>\n",
       "      <td>4.377204</td>\n",
       "      <td>...</td>\n",
       "      <td>-1.671170</td>\n",
       "      <td>-3.220754</td>\n",
       "      <td>-14.940415</td>\n",
       "      <td>-5.016739</td>\n",
       "      <td>-2.220733</td>\n",
       "      <td>-7.465117</td>\n",
       "      <td>1.860558</td>\n",
       "      <td>1.334682</td>\n",
       "      <td>-6.402274</td>\n",
       "      <td>twenties</td>\n",
       "    </tr>\n",
       "    <tr>\n",
       "      <th>4</th>\n",
       "      <td>2295.454960</td>\n",
       "      <td>1604.937919</td>\n",
       "      <td>3914.242788</td>\n",
       "      <td>-450.363251</td>\n",
       "      <td>114.169662</td>\n",
       "      <td>0.962597</td>\n",
       "      <td>34.766132</td>\n",
       "      <td>9.955236</td>\n",
       "      <td>-15.582076</td>\n",
       "      <td>7.267449</td>\n",
       "      <td>...</td>\n",
       "      <td>-4.480816</td>\n",
       "      <td>-8.718718</td>\n",
       "      <td>-3.577431</td>\n",
       "      <td>1.816039</td>\n",
       "      <td>-8.556527</td>\n",
       "      <td>0.398287</td>\n",
       "      <td>3.121161</td>\n",
       "      <td>-5.817390</td>\n",
       "      <td>-1.272127</td>\n",
       "      <td>thirties</td>\n",
       "    </tr>\n",
       "  </tbody>\n",
       "</table>\n",
       "<p>5 rows × 24 columns</p>\n",
       "</div>"
      ],
      "text/plain": [
       "   spectral_centroid  spectral_bandwidth  spectral_rolloff       mfcc1  \\\n",
       "0        4601.892547         4184.876829       8874.338942 -402.846649   \n",
       "1        2287.110065         2410.712019       4503.499717 -374.544037   \n",
       "2        2143.145131         1883.691525       3939.783309 -359.217804   \n",
       "3        1719.269771         1411.006731       2833.510540 -471.531097   \n",
       "4        2295.454960         1604.937919       3914.242788 -450.363251   \n",
       "\n",
       "        mfcc2      mfcc3      mfcc4      mfcc5      mfcc6      mfcc7  ...  \\\n",
       "0   99.381973   4.188054  26.407892 -19.884447  27.224535 -21.590702  ...   \n",
       "1  119.650620  -8.716018  44.255966  28.027670  34.503090   7.806761  ...   \n",
       "2  118.844490 -14.806021  22.941675  21.304485  -8.363414   4.514751  ...   \n",
       "3  146.751495 -11.641893  -1.372401  11.657462  -2.695865   4.377204  ...   \n",
       "4  114.169662   0.962597  34.766132   9.955236 -15.582076   7.267449  ...   \n",
       "\n",
       "      mfcc12    mfcc13     mfcc14    mfcc15     mfcc16    mfcc17    mfcc18  \\\n",
       "0   0.849433 -1.537587  -0.571348  8.321047 -11.838350  3.967480 -5.628197   \n",
       "1 -11.060529 -2.205300   0.734262 -9.192008  -2.799100 -5.585814 -2.370799   \n",
       "2 -11.471552 -9.679022 -16.488588 -8.958996  -3.920002 -6.187822 -3.866070   \n",
       "3  -1.671170 -3.220754 -14.940415 -5.016739  -2.220733 -7.465117  1.860558   \n",
       "4  -4.480816 -8.718718  -3.577431  1.816039  -8.556527  0.398287  3.121161   \n",
       "\n",
       "     mfcc19    mfcc20     label  \n",
       "0 -0.041304 -5.654116  fourties  \n",
       "1  6.278462  2.681469  twenties  \n",
       "2 -6.310972 -4.986303  thirties  \n",
       "3  1.334682 -6.402274  twenties  \n",
       "4 -5.817390 -1.272127  thirties  \n",
       "\n",
       "[5 rows x 24 columns]"
      ]
     },
     "execution_count": 19,
     "metadata": {},
     "output_type": "execute_result"
    }
   ],
   "source": [
    "#the function create dataframe to store the feature and label related to each other\n",
    "def create_df_features(orig, ds_path, isTraining = False):\n",
    "    new_rows = list()\n",
    "    tot_rows = len(orig)-1\n",
    "    stop_counter = 55001\n",
    "\n",
    "    for idx, row in orig.iterrows():\n",
    "        if idx >= stop_counter: break\n",
    "        print(\"\\r\", end=\"\")\n",
    "        print(\"{}/{}\".format(idx, tot_rows), end=\"\", flush=True)\n",
    "        features = feature_extraction(orig, ds_path, row['filename'], isTraining  = isTraining)\n",
    "        features.append(row['age'])\n",
    "        new_rows.append(features)\n",
    "\n",
    "    return pd.DataFrame(new_rows, columns=[ \"spectral_centroid\", \"spectral_bandwidth\", \"spectral_rolloff\",\n",
    "                                    \"mfcc1\", \"mfcc2\", \"mfcc3\", \"mfcc4\", \"mfcc5\", \"mfcc6\", \"mfcc7\", \"mfcc8\",\n",
    "                                   \"mfcc9\", \"mfcc10\", \"mfcc11\", \"mfcc12\", \"mfcc13\", \"mfcc14\", \"mfcc15\", \"mfcc16\",\n",
    "                                   \"mfcc17\", \"mfcc18\", \"mfcc19\", \"mfcc20\", \"label\"])\n",
    "\n",
    "df_features = create_df_features(data, ds_path, isTraining = True)\n",
    "df_features.head()"
   ]
  },
  {
   "cell_type": "code",
   "execution_count": 20,
   "id": "7f661bca",
   "metadata": {
    "execution": {
     "iopub.execute_input": "2024-03-15T19:25:18.439442Z",
     "iopub.status.busy": "2024-03-15T19:25:18.438660Z",
     "iopub.status.idle": "2024-03-15T19:29:08.230156Z",
     "shell.execute_reply": "2024-03-15T19:29:08.228520Z"
    },
    "id": "x25K16yO62u2",
    "outputId": "3273e141-3e3a-48f8-ffe9-761aeade569f",
    "papermill": {
     "duration": 235.240108,
     "end_time": "2024-03-15T19:29:08.235284",
     "exception": false,
     "start_time": "2024-03-15T19:25:12.995176",
     "status": "completed"
    },
    "tags": []
   },
   "outputs": [
    {
     "name": "stdout",
     "output_type": "stream",
     "text": [
      "1541/1541"
     ]
    },
    {
     "data": {
      "text/html": [
       "<div>\n",
       "<style scoped>\n",
       "    .dataframe tbody tr th:only-of-type {\n",
       "        vertical-align: middle;\n",
       "    }\n",
       "\n",
       "    .dataframe tbody tr th {\n",
       "        vertical-align: top;\n",
       "    }\n",
       "\n",
       "    .dataframe thead th {\n",
       "        text-align: right;\n",
       "    }\n",
       "</style>\n",
       "<table border=\"1\" class=\"dataframe\">\n",
       "  <thead>\n",
       "    <tr style=\"text-align: right;\">\n",
       "      <th></th>\n",
       "      <th>spectral_centroid</th>\n",
       "      <th>spectral_bandwidth</th>\n",
       "      <th>spectral_rolloff</th>\n",
       "      <th>mfcc1</th>\n",
       "      <th>mfcc2</th>\n",
       "      <th>mfcc3</th>\n",
       "      <th>mfcc4</th>\n",
       "      <th>mfcc5</th>\n",
       "      <th>mfcc6</th>\n",
       "      <th>mfcc7</th>\n",
       "      <th>...</th>\n",
       "      <th>mfcc12</th>\n",
       "      <th>mfcc13</th>\n",
       "      <th>mfcc14</th>\n",
       "      <th>mfcc15</th>\n",
       "      <th>mfcc16</th>\n",
       "      <th>mfcc17</th>\n",
       "      <th>mfcc18</th>\n",
       "      <th>mfcc19</th>\n",
       "      <th>mfcc20</th>\n",
       "      <th>label</th>\n",
       "    </tr>\n",
       "  </thead>\n",
       "  <tbody>\n",
       "    <tr>\n",
       "      <th>0</th>\n",
       "      <td>2363.110587</td>\n",
       "      <td>2442.014562</td>\n",
       "      <td>4577.484631</td>\n",
       "      <td>-485.972900</td>\n",
       "      <td>120.069839</td>\n",
       "      <td>18.925766</td>\n",
       "      <td>22.316969</td>\n",
       "      <td>26.170475</td>\n",
       "      <td>10.456684</td>\n",
       "      <td>1.541059</td>\n",
       "      <td>...</td>\n",
       "      <td>4.510566</td>\n",
       "      <td>-3.815123</td>\n",
       "      <td>-5.117503</td>\n",
       "      <td>0.849420</td>\n",
       "      <td>-0.359974</td>\n",
       "      <td>-1.187836</td>\n",
       "      <td>2.772711</td>\n",
       "      <td>0.431760</td>\n",
       "      <td>-4.403286</td>\n",
       "      <td>twenties</td>\n",
       "    </tr>\n",
       "    <tr>\n",
       "      <th>1</th>\n",
       "      <td>2644.264959</td>\n",
       "      <td>2748.468148</td>\n",
       "      <td>5367.187500</td>\n",
       "      <td>-588.103088</td>\n",
       "      <td>106.388893</td>\n",
       "      <td>19.169491</td>\n",
       "      <td>25.312468</td>\n",
       "      <td>1.020321</td>\n",
       "      <td>20.175329</td>\n",
       "      <td>2.670224</td>\n",
       "      <td>...</td>\n",
       "      <td>-6.859980</td>\n",
       "      <td>-7.951331</td>\n",
       "      <td>-8.337333</td>\n",
       "      <td>-6.856142</td>\n",
       "      <td>-2.805744</td>\n",
       "      <td>-6.419114</td>\n",
       "      <td>-6.350869</td>\n",
       "      <td>-1.939447</td>\n",
       "      <td>-2.964418</td>\n",
       "      <td>twenties</td>\n",
       "    </tr>\n",
       "    <tr>\n",
       "      <th>2</th>\n",
       "      <td>2059.264935</td>\n",
       "      <td>2027.237487</td>\n",
       "      <td>3844.232695</td>\n",
       "      <td>-401.671204</td>\n",
       "      <td>132.308975</td>\n",
       "      <td>7.677215</td>\n",
       "      <td>19.505114</td>\n",
       "      <td>20.168219</td>\n",
       "      <td>10.824321</td>\n",
       "      <td>-1.742652</td>\n",
       "      <td>...</td>\n",
       "      <td>-2.037062</td>\n",
       "      <td>-0.507063</td>\n",
       "      <td>-3.501943</td>\n",
       "      <td>-4.953253</td>\n",
       "      <td>-6.940827</td>\n",
       "      <td>-5.202406</td>\n",
       "      <td>-0.321907</td>\n",
       "      <td>-3.445682</td>\n",
       "      <td>-5.890697</td>\n",
       "      <td>twenties</td>\n",
       "    </tr>\n",
       "    <tr>\n",
       "      <th>3</th>\n",
       "      <td>3490.665602</td>\n",
       "      <td>3096.615650</td>\n",
       "      <td>6684.172124</td>\n",
       "      <td>-559.588562</td>\n",
       "      <td>89.208626</td>\n",
       "      <td>-12.495049</td>\n",
       "      <td>32.540150</td>\n",
       "      <td>12.109186</td>\n",
       "      <td>10.346272</td>\n",
       "      <td>3.302351</td>\n",
       "      <td>...</td>\n",
       "      <td>0.535925</td>\n",
       "      <td>1.264716</td>\n",
       "      <td>-1.473101</td>\n",
       "      <td>0.517995</td>\n",
       "      <td>-0.558837</td>\n",
       "      <td>-3.706164</td>\n",
       "      <td>2.706611</td>\n",
       "      <td>-0.375905</td>\n",
       "      <td>-3.455411</td>\n",
       "      <td>twenties</td>\n",
       "    </tr>\n",
       "    <tr>\n",
       "      <th>4</th>\n",
       "      <td>3158.136064</td>\n",
       "      <td>3213.745972</td>\n",
       "      <td>6322.884909</td>\n",
       "      <td>-402.182495</td>\n",
       "      <td>120.924423</td>\n",
       "      <td>-16.121973</td>\n",
       "      <td>37.154160</td>\n",
       "      <td>-4.684889</td>\n",
       "      <td>18.873652</td>\n",
       "      <td>0.307747</td>\n",
       "      <td>...</td>\n",
       "      <td>0.667729</td>\n",
       "      <td>2.254137</td>\n",
       "      <td>0.661788</td>\n",
       "      <td>2.334560</td>\n",
       "      <td>-3.770767</td>\n",
       "      <td>4.463132</td>\n",
       "      <td>-4.322121</td>\n",
       "      <td>3.768255</td>\n",
       "      <td>1.248358</td>\n",
       "      <td>thirties</td>\n",
       "    </tr>\n",
       "  </tbody>\n",
       "</table>\n",
       "<p>5 rows × 24 columns</p>\n",
       "</div>"
      ],
      "text/plain": [
       "   spectral_centroid  spectral_bandwidth  spectral_rolloff       mfcc1  \\\n",
       "0        2363.110587         2442.014562       4577.484631 -485.972900   \n",
       "1        2644.264959         2748.468148       5367.187500 -588.103088   \n",
       "2        2059.264935         2027.237487       3844.232695 -401.671204   \n",
       "3        3490.665602         3096.615650       6684.172124 -559.588562   \n",
       "4        3158.136064         3213.745972       6322.884909 -402.182495   \n",
       "\n",
       "        mfcc2      mfcc3      mfcc4      mfcc5      mfcc6     mfcc7  ...  \\\n",
       "0  120.069839  18.925766  22.316969  26.170475  10.456684  1.541059  ...   \n",
       "1  106.388893  19.169491  25.312468   1.020321  20.175329  2.670224  ...   \n",
       "2  132.308975   7.677215  19.505114  20.168219  10.824321 -1.742652  ...   \n",
       "3   89.208626 -12.495049  32.540150  12.109186  10.346272  3.302351  ...   \n",
       "4  120.924423 -16.121973  37.154160  -4.684889  18.873652  0.307747  ...   \n",
       "\n",
       "     mfcc12    mfcc13    mfcc14    mfcc15    mfcc16    mfcc17    mfcc18  \\\n",
       "0  4.510566 -3.815123 -5.117503  0.849420 -0.359974 -1.187836  2.772711   \n",
       "1 -6.859980 -7.951331 -8.337333 -6.856142 -2.805744 -6.419114 -6.350869   \n",
       "2 -2.037062 -0.507063 -3.501943 -4.953253 -6.940827 -5.202406 -0.321907   \n",
       "3  0.535925  1.264716 -1.473101  0.517995 -0.558837 -3.706164  2.706611   \n",
       "4  0.667729  2.254137  0.661788  2.334560 -3.770767  4.463132 -4.322121   \n",
       "\n",
       "     mfcc19    mfcc20     label  \n",
       "0  0.431760 -4.403286  twenties  \n",
       "1 -1.939447 -2.964418  twenties  \n",
       "2 -3.445682 -5.890697  twenties  \n",
       "3 -0.375905 -3.455411  twenties  \n",
       "4  3.768255  1.248358  thirties  \n",
       "\n",
       "[5 rows x 24 columns]"
      ]
     },
     "execution_count": 20,
     "metadata": {},
     "output_type": "execute_result"
    }
   ],
   "source": [
    "df_features_test = create_df_features(data_test, ds_path_test)\n",
    "df_features_test.head()"
   ]
  },
  {
   "cell_type": "markdown",
   "id": "8591ae2c",
   "metadata": {
    "id": "adult-globe",
    "papermill": {
     "duration": 5.420089,
     "end_time": "2024-03-15T19:29:19.237700",
     "exception": false,
     "start_time": "2024-03-15T19:29:13.817611",
     "status": "completed"
    },
    "tags": []
   },
   "source": [
    "### **Feature Transformation**  \n",
    "\n",
    "Scaling the features with the scikit-learn StandardScaler."
   ]
  },
  {
   "cell_type": "code",
   "execution_count": 21,
   "id": "6ac36bfb",
   "metadata": {
    "execution": {
     "iopub.execute_input": "2024-03-15T19:29:30.315814Z",
     "iopub.status.busy": "2024-03-15T19:29:30.315357Z",
     "iopub.status.idle": "2024-03-15T19:29:30.343737Z",
     "shell.execute_reply": "2024-03-15T19:29:30.342735Z"
    },
    "id": "permanent-kazakhstan",
    "papermill": {
     "duration": 5.49557,
     "end_time": "2024-03-15T19:29:30.346313",
     "exception": false,
     "start_time": "2024-03-15T19:29:24.850743",
     "status": "completed"
    },
    "tags": []
   },
   "outputs": [],
   "source": [
    "from sklearn.preprocessing import StandardScaler\n",
    "\n",
    "def scale_features(data):\n",
    "    scaler = StandardScaler()\n",
    "    scaled_data = scaler.fit_transform(np.array(data.iloc[:, 0:-1], dtype = float))\n",
    "    # with data.iloc[:, 0:-1] we don't consider the label column\n",
    "\n",
    "    return scaled_data, scaler\n",
    "\n",
    "x, scaler = scale_features(df_features)"
   ]
  },
  {
   "cell_type": "code",
   "execution_count": 22,
   "id": "6e5efd24",
   "metadata": {
    "execution": {
     "iopub.execute_input": "2024-03-15T19:29:41.351202Z",
     "iopub.status.busy": "2024-03-15T19:29:41.349968Z",
     "iopub.status.idle": "2024-03-15T19:29:41.358793Z",
     "shell.execute_reply": "2024-03-15T19:29:41.357962Z"
    },
    "papermill": {
     "duration": 5.54644,
     "end_time": "2024-03-15T19:29:41.360993",
     "exception": false,
     "start_time": "2024-03-15T19:29:35.814553",
     "status": "completed"
    },
    "tags": []
   },
   "outputs": [
    {
     "data": {
      "text/plain": [
       "['scaler.save']"
      ]
     },
     "execution_count": 22,
     "metadata": {},
     "output_type": "execute_result"
    }
   ],
   "source": [
    "import joblib\n",
    "joblib.dump(scaler, 'scaler.save') "
   ]
  },
  {
   "cell_type": "code",
   "execution_count": 23,
   "id": "7678ecdd",
   "metadata": {
    "execution": {
     "iopub.execute_input": "2024-03-15T19:29:52.251470Z",
     "iopub.status.busy": "2024-03-15T19:29:52.250725Z",
     "iopub.status.idle": "2024-03-15T19:29:52.257278Z",
     "shell.execute_reply": "2024-03-15T19:29:52.256056Z"
    },
    "id": "vaexOnCq7z5K",
    "papermill": {
     "duration": 5.443976,
     "end_time": "2024-03-15T19:29:52.259649",
     "exception": false,
     "start_time": "2024-03-15T19:29:46.815673",
     "status": "completed"
    },
    "tags": []
   },
   "outputs": [],
   "source": [
    "x_test = scaler.transform(np.array(df_features_test.iloc[:, 0:-1], dtype = float))"
   ]
  },
  {
   "cell_type": "code",
   "execution_count": 24,
   "id": "67cfa593",
   "metadata": {
    "execution": {
     "iopub.execute_input": "2024-03-15T19:30:03.301992Z",
     "iopub.status.busy": "2024-03-15T19:30:03.301254Z",
     "iopub.status.idle": "2024-03-15T19:30:03.309336Z",
     "shell.execute_reply": "2024-03-15T19:30:03.307965Z"
    },
    "id": "equipped-command",
    "outputId": "b335cada-83a4-4a44-82f8-a7b946056d1c",
    "papermill": {
     "duration": 5.422058,
     "end_time": "2024-03-15T19:30:03.311658",
     "exception": false,
     "start_time": "2024-03-15T19:29:57.889600",
     "status": "completed"
    },
    "tags": []
   },
   "outputs": [
    {
     "name": "stdout",
     "output_type": "stream",
     "text": [
      "Before scaling: [4601.892546693295 4184.876829294083 8874.338942307691 -402.84665 99.38197\n",
      " 4.188054 26.407892 -19.884447 27.224535 -21.590702 13.456141 -11.481952\n",
      " 2.3348002 -2.8148396 0.8494334 -1.5375873 -0.5713484 8.321047 -11.83835\n",
      " 3.9674804 -5.628197 -0.041303664 -5.6541157]\n",
      "\n",
      "After scaling: [ 2.39216441  2.58180285  2.46529617  0.43973843 -0.68143841  0.37995824\n",
      "  0.2191922  -2.04467636  1.41825237 -1.92982758  1.88218808 -0.94681082\n",
      "  1.08707629  0.12406398  0.98434058  0.10905352  0.99775605  2.43199961\n",
      " -2.06915727  1.809585   -1.01060829  0.42016757 -0.45711976]\n"
     ]
    }
   ],
   "source": [
    "print(\"Before scaling:\", df_features.iloc[0].values[:-1])\n",
    "print(\"\\nAfter scaling:\", x[0])"
   ]
  },
  {
   "cell_type": "code",
   "execution_count": 25,
   "id": "02d6749b",
   "metadata": {
    "execution": {
     "iopub.execute_input": "2024-03-15T19:30:14.282971Z",
     "iopub.status.busy": "2024-03-15T19:30:14.282190Z",
     "iopub.status.idle": "2024-03-15T19:30:14.289087Z",
     "shell.execute_reply": "2024-03-15T19:30:14.287933Z"
    },
    "id": "MEnsTgYX819y",
    "outputId": "e73a4e68-d800-439e-d399-947e49c2a3e4",
    "papermill": {
     "duration": 5.416041,
     "end_time": "2024-03-15T19:30:14.291346",
     "exception": false,
     "start_time": "2024-03-15T19:30:08.875305",
     "status": "completed"
    },
    "tags": []
   },
   "outputs": [
    {
     "name": "stdout",
     "output_type": "stream",
     "text": [
      "Before scaling: [2363.1105869782687 2442.0145621564366 4577.484631147541 -485.9729\n",
      " 120.06984 18.925766 22.316969 26.170475 10.456684 1.5410587 7.424353\n",
      " 2.6522818 -9.54947 -1.2842348 4.510566 -3.8151226 -5.117503 0.8494205\n",
      " -0.35997397 -1.1878362 2.7727106 0.4317596 -4.4032865]\n",
      "\n",
      "After scaling: [-0.41039409 -0.11891622 -0.31478635 -0.47318589  0.1324941   1.12165127\n",
      " -0.0482857   1.28005634  0.21570824  0.37472255  1.17426285  0.76703322\n",
      " -0.58070796  0.35535592  1.67090742 -0.31794909  0.06814207  0.82155125\n",
      "  0.65453721  0.55238156  1.18277654  0.53034981 -0.10654467]\n"
     ]
    }
   ],
   "source": [
    "print(\"Before scaling:\", df_features_test.iloc[0].values[:-1])\n",
    "print(\"\\nAfter scaling:\", x_test[0])"
   ]
  },
  {
   "cell_type": "code",
   "execution_count": 26,
   "id": "f75d415d",
   "metadata": {
    "execution": {
     "iopub.execute_input": "2024-03-15T19:30:25.153659Z",
     "iopub.status.busy": "2024-03-15T19:30:25.152613Z",
     "iopub.status.idle": "2024-03-15T19:30:25.164971Z",
     "shell.execute_reply": "2024-03-15T19:30:25.164122Z"
    },
    "id": "lesbian-convenience",
    "outputId": "5824c86a-126a-4642-8008-d772f30edfea",
    "papermill": {
     "duration": 5.458462,
     "end_time": "2024-03-15T19:30:25.167526",
     "exception": false,
     "start_time": "2024-03-15T19:30:19.709064",
     "status": "completed"
    },
    "tags": []
   },
   "outputs": [
    {
     "data": {
      "text/plain": [
       "array(['fourties', 'twenties', 'thirties', 'fifties', 'sixties', 'teens',\n",
       "       'seventies', 'eighties'], dtype=object)"
      ]
     },
     "execution_count": 26,
     "metadata": {},
     "output_type": "execute_result"
    }
   ],
   "source": [
    "df_features['label'].unique()"
   ]
  },
  {
   "cell_type": "code",
   "execution_count": 27,
   "id": "3ede448f",
   "metadata": {
    "execution": {
     "iopub.execute_input": "2024-03-15T19:30:36.180909Z",
     "iopub.status.busy": "2024-03-15T19:30:36.180508Z",
     "iopub.status.idle": "2024-03-15T19:30:36.188200Z",
     "shell.execute_reply": "2024-03-15T19:30:36.187169Z"
    },
    "id": "Liu94RfA88EZ",
    "outputId": "79d6e433-ee37-4507-acdd-eb76bdc51c37",
    "papermill": {
     "duration": 5.449027,
     "end_time": "2024-03-15T19:30:36.190568",
     "exception": false,
     "start_time": "2024-03-15T19:30:30.741541",
     "status": "completed"
    },
    "tags": []
   },
   "outputs": [
    {
     "data": {
      "text/plain": [
       "array(['twenties', 'thirties', 'fifties', 'fourties', 'teens',\n",
       "       'seventies', 'sixties', 'eighties'], dtype=object)"
      ]
     },
     "execution_count": 27,
     "metadata": {},
     "output_type": "execute_result"
    }
   ],
   "source": [
    "df_features_test['label'].unique()"
   ]
  },
  {
   "cell_type": "code",
   "execution_count": 28,
   "id": "d03f0708",
   "metadata": {
    "execution": {
     "iopub.execute_input": "2024-03-15T19:30:47.169173Z",
     "iopub.status.busy": "2024-03-15T19:30:47.168214Z",
     "iopub.status.idle": "2024-03-15T19:30:47.198807Z",
     "shell.execute_reply": "2024-03-15T19:30:47.197777Z"
    },
    "id": "gothic-darwin",
    "outputId": "f8d72b6c-fd8c-4913-9c68-6cfa6ec868bb",
    "papermill": {
     "duration": 5.460747,
     "end_time": "2024-03-15T19:30:47.201180",
     "exception": false,
     "start_time": "2024-03-15T19:30:41.740433",
     "status": "completed"
    },
    "tags": []
   },
   "outputs": [
    {
     "name": "stdout",
     "output_type": "stream",
     "text": [
      "Before encoding: fourties\n",
      "\n",
      "After encoding: 2\n",
      "\n",
      "Classes: ['eighties' 'fifties' 'fourties' 'seventies' 'sixties' 'teens' 'thirties'\n",
      " 'twenties']\n"
     ]
    }
   ],
   "source": [
    "from sklearn.preprocessing import LabelEncoder\n",
    "\n",
    "def get_labels(data):\n",
    "    labels = data.iloc[:, -1]\n",
    "    encoder = LabelEncoder()\n",
    "    labels = encoder.fit_transform(labels)\n",
    "    return labels, encoder\n",
    "\n",
    "y, encoder = get_labels(df_features)\n",
    "classes = encoder.classes_\n",
    "print(\"Before encoding:\", df_features.iloc[0].values[-1])\n",
    "print(\"\\nAfter encoding:\", y[0])\n",
    "print(\"\\nClasses:\", classes)"
   ]
  },
  {
   "cell_type": "code",
   "execution_count": 29,
   "id": "92c826e7",
   "metadata": {
    "execution": {
     "iopub.execute_input": "2024-03-15T19:30:58.108584Z",
     "iopub.status.busy": "2024-03-15T19:30:58.108064Z",
     "iopub.status.idle": "2024-03-15T19:30:58.117052Z",
     "shell.execute_reply": "2024-03-15T19:30:58.116023Z"
    },
    "papermill": {
     "duration": 5.494194,
     "end_time": "2024-03-15T19:30:58.119271",
     "exception": false,
     "start_time": "2024-03-15T19:30:52.625077",
     "status": "completed"
    },
    "tags": []
   },
   "outputs": [
    {
     "data": {
      "text/plain": [
       "['label_encoder.save']"
      ]
     },
     "execution_count": 29,
     "metadata": {},
     "output_type": "execute_result"
    }
   ],
   "source": [
    "joblib.dump(encoder, 'label_encoder.save') "
   ]
  },
  {
   "cell_type": "code",
   "execution_count": 30,
   "id": "a069589f",
   "metadata": {
    "execution": {
     "iopub.execute_input": "2024-03-15T19:31:09.146569Z",
     "iopub.status.busy": "2024-03-15T19:31:09.145901Z",
     "iopub.status.idle": "2024-03-15T19:31:09.154277Z",
     "shell.execute_reply": "2024-03-15T19:31:09.153459Z"
    },
    "id": "Y6j8hNKP9Col",
    "outputId": "d8453605-2a36-491b-c522-1dc5980688b3",
    "papermill": {
     "duration": 5.450323,
     "end_time": "2024-03-15T19:31:09.156794",
     "exception": false,
     "start_time": "2024-03-15T19:31:03.706471",
     "status": "completed"
    },
    "tags": []
   },
   "outputs": [
    {
     "name": "stdout",
     "output_type": "stream",
     "text": [
      "Before encoding: twenties\n",
      "\n",
      "After encoding: 7\n"
     ]
    }
   ],
   "source": [
    "y_testt = encoder.transform(df_features_test.iloc[:,-1])\n",
    "print(\"Before encoding:\", df_features_test.iloc[0].values[-1])\n",
    "print(\"\\nAfter encoding:\", y_testt[0])"
   ]
  },
  {
   "cell_type": "markdown",
   "id": "52cba905",
   "metadata": {
    "id": "fourth-paper",
    "papermill": {
     "duration": 5.440328,
     "end_time": "2024-03-15T19:31:20.135163",
     "exception": false,
     "start_time": "2024-03-15T19:31:14.694835",
     "status": "completed"
    },
    "tags": []
   },
   "source": [
    "### **Feature Selection**  \n",
    "\n",
    "We use the ANOVA (ANalysis Of VAriance) statistical technique (f_classif) to select the best 22 features.\n"
   ]
  },
  {
   "cell_type": "code",
   "execution_count": 31,
   "id": "93576753",
   "metadata": {
    "execution": {
     "iopub.execute_input": "2024-03-15T19:31:31.197370Z",
     "iopub.status.busy": "2024-03-15T19:31:31.196896Z",
     "iopub.status.idle": "2024-03-15T19:31:31.758239Z",
     "shell.execute_reply": "2024-03-15T19:31:31.756973Z"
    },
    "id": "supposed-guess",
    "outputId": "a01ed1c1-7f99-419e-c916-c82ebbb67817",
    "papermill": {
     "duration": 6.044737,
     "end_time": "2024-03-15T19:31:31.760835",
     "exception": false,
     "start_time": "2024-03-15T19:31:25.716098",
     "status": "completed"
    },
    "tags": []
   },
   "outputs": [
    {
     "data": {
      "image/png": "[encoded data removed]",
      "text/plain": [
       "<Figure size 2200x500 with 1 Axes>"
      ]
     },
     "metadata": {},
     "output_type": "display_data"
    }
   ],
   "source": [
    "from sklearn.feature_selection import SelectKBest\n",
    "from sklearn.feature_selection import f_classif\n",
    "\n",
    "n_features = 22\n",
    "\n",
    "f_selector = SelectKBest(f_classif, k=n_features).fit(x, y)\n",
    "X_new = f_selector.transform(x)\n",
    "scores = f_selector.scores_\n",
    "\n",
    "indices = np.argsort(scores)[::-1]\n",
    "\n",
    "features = []\n",
    "for i in range(n_features):\n",
    "    features.append(df_features.columns[indices[i]])\n",
    "\n",
    "plt.figure(figsize=(22, 5))\n",
    "plt.bar(features, scores[indices[range(n_features)]], color='g')\n",
    "plt.xticks(fontsize=8)\n",
    "plt.show()\n"
   ]
  },
  {
   "cell_type": "code",
   "execution_count": 32,
   "id": "bdd4158e",
   "metadata": {
    "execution": {
     "iopub.execute_input": "2024-03-15T19:31:42.697099Z",
     "iopub.status.busy": "2024-03-15T19:31:42.696666Z",
     "iopub.status.idle": "2024-03-15T19:31:42.703755Z",
     "shell.execute_reply": "2024-03-15T19:31:42.703000Z"
    },
    "papermill": {
     "duration": 5.545659,
     "end_time": "2024-03-15T19:31:42.705873",
     "exception": false,
     "start_time": "2024-03-15T19:31:37.160214",
     "status": "completed"
    },
    "tags": []
   },
   "outputs": [
    {
     "data": {
      "text/plain": [
       "['feature_selector.save']"
      ]
     },
     "execution_count": 32,
     "metadata": {},
     "output_type": "execute_result"
    }
   ],
   "source": [
    "joblib.dump(f_selector, 'feature_selector.save') "
   ]
  },
  {
   "cell_type": "code",
   "execution_count": 33,
   "id": "e5e2b117",
   "metadata": {
    "execution": {
     "iopub.execute_input": "2024-03-15T19:31:53.551694Z",
     "iopub.status.busy": "2024-03-15T19:31:53.550821Z",
     "iopub.status.idle": "2024-03-15T19:31:54.056774Z",
     "shell.execute_reply": "2024-03-15T19:31:54.054305Z"
    },
    "id": "WLYmWKTc9yVa",
    "outputId": "6e0be0ae-c613-4e31-d074-f848bef6c05c",
    "papermill": {
     "duration": 5.896253,
     "end_time": "2024-03-15T19:31:54.059533",
     "exception": false,
     "start_time": "2024-03-15T19:31:48.163280",
     "status": "completed"
    },
    "tags": []
   },
   "outputs": [
    {
     "data": {
      "image/png": "[encoded data removed]",
      "text/plain": [
       "<Figure size 2200x500 with 1 Axes>"
      ]
     },
     "metadata": {},
     "output_type": "display_data"
    }
   ],
   "source": [
    "X_new_test = f_selector.transform(x_test)\n",
    "scores_test = f_selector.scores_\n",
    "\n",
    "indices_test = np.argsort(scores_test)[::-1]\n",
    "\n",
    "features_test = []\n",
    "for i in range(n_features):\n",
    "    features_test.append(df_features_test.columns[indices_test[i]])\n",
    "\n",
    "plt.figure(figsize=(22, 5))\n",
    "plt.bar(features_test, scores_test[indices[range(n_features)]], color='g')\n",
    "plt.xticks(fontsize=8)\n",
    "plt.show()"
   ]
  },
  {
   "cell_type": "markdown",
   "id": "ffb0e2b9",
   "metadata": {
    "id": "continuous-lewis",
    "papermill": {
     "duration": 5.607824,
     "end_time": "2024-03-15T19:32:05.094820",
     "exception": false,
     "start_time": "2024-03-15T19:31:59.486996",
     "status": "completed"
    },
    "tags": []
   },
   "source": [
    "### **Model Selection**  \n",
    "\n",
    "Here, we consider two classifiers:\n",
    "\n",
    "    Support Vector Machine\n",
    "    Random Forest\n",
    "\n",
    "We evaluate them with the K-Fold Cross-Validation technique. At each iteration of this outer cross-validation process, we tune the hyper-parameters of the classifiers with another (inner) Cross-Validation process , that will further divide the training set into training and validation data.\n",
    "\n",
    "At each iteration of the outer CV process, we print the F1-Score obtained by the tuned classifier on the validation data, but also the F1-Score computed on the test data. Finally, we print the average F1-Scores computed on the test data at each step of the outer CV process."
   ]
  },
  {
   "cell_type": "code",
   "execution_count": 34,
   "id": "bbb4fdb8",
   "metadata": {
    "execution": {
     "iopub.execute_input": "2024-03-15T19:32:16.026245Z",
     "iopub.status.busy": "2024-03-15T19:32:16.025791Z",
     "iopub.status.idle": "2024-03-15T19:32:16.032060Z",
     "shell.execute_reply": "2024-03-15T19:32:16.030845Z"
    },
    "id": "stainless-lender",
    "outputId": "eadab53b-e70f-4174-db64-e8ad896e9eee",
    "papermill": {
     "duration": 5.555571,
     "end_time": "2024-03-15T19:32:16.034406",
     "exception": false,
     "start_time": "2024-03-15T19:32:10.478835",
     "status": "completed"
    },
    "tags": []
   },
   "outputs": [],
   "source": [
    "from sklearn.model_selection import KFold\n",
    "from sklearn.model_selection import GridSearchCV\n",
    "from sklearn.svm import SVC\n",
    "from sklearn.ensemble import RandomForestClassifier\n",
    "from sklearn.ensemble import GradientBoostingClassifier\n",
    "from sklearn.metrics import f1_score\n",
    "\n",
    "\n"
   ]
  },
  {
   "cell_type": "code",
   "execution_count": 35,
   "id": "14484ab0",
   "metadata": {
    "execution": {
     "iopub.execute_input": "2024-03-15T19:32:27.016114Z",
     "iopub.status.busy": "2024-03-15T19:32:27.015269Z",
     "iopub.status.idle": "2024-03-15T19:32:27.309897Z",
     "shell.execute_reply": "2024-03-15T19:32:27.309022Z"
    },
    "id": "vIYrhuNsRaDp",
    "outputId": "d6e30e42-5bab-4041-f53f-6db5f15ea128",
    "papermill": {
     "duration": 5.733129,
     "end_time": "2024-03-15T19:32:27.312242",
     "exception": false,
     "start_time": "2024-03-15T19:32:21.579113",
     "status": "completed"
    },
    "tags": []
   },
   "outputs": [
    {
     "name": "stdout",
     "output_type": "stream",
     "text": [
      "KNeighborsClassifier\n",
      "F1 Score on Test data 0.886\n"
     ]
    }
   ],
   "source": [
    "def test_model(model, X_train, Y_train, X_test, Y_test):\n",
    "    print(\"{}\".format(model.__class__.__name__))\n",
    "    model.fit(X_train, Y_train)\n",
    "\n",
    "    # evaluation on the test set\n",
    "    pred = model.predict(X_test)\n",
    "    score = f1_score(Y_test, pred, average='macro')\n",
    "\n",
    "    print(\"F1 Score on Test data {:.3f}\"\n",
    "            .format(score))\n",
    "    \n",
    "knn = KNeighborsClassifier(algorithm= 'auto', leaf_size= 1, metric= 'minkowski', n_neighbors= 2, weights= 'distance')\n",
    "test_model(knn,X_new,y,X_new_test,y_testt)"
   ]
  },
  {
   "cell_type": "code",
   "execution_count": 36,
   "id": "259b9247",
   "metadata": {
    "execution": {
     "iopub.execute_input": "2024-03-15T19:32:38.217872Z",
     "iopub.status.busy": "2024-03-15T19:32:38.216764Z",
     "iopub.status.idle": "2024-03-15T19:45:07.286635Z",
     "shell.execute_reply": "2024-03-15T19:45:07.285196Z"
    },
    "papermill": {
     "duration": 759.900695,
     "end_time": "2024-03-15T19:45:12.695162",
     "exception": false,
     "start_time": "2024-03-15T19:32:32.794467",
     "status": "completed"
    },
    "tags": []
   },
   "outputs": [
    {
     "name": "stdout",
     "output_type": "stream",
     "text": [
      "SVC\n",
      "F1 Score on Test data 0.866\n"
     ]
    }
   ],
   "source": [
    "svc = SVC(C=100,gamma=\"scale\")\n",
    "test_model(svc,X_new,y,X_new_test,y_testt)"
   ]
  },
  {
   "cell_type": "code",
   "execution_count": 37,
   "id": "43ada568",
   "metadata": {
    "execution": {
     "iopub.execute_input": "2024-03-15T19:45:23.628681Z",
     "iopub.status.busy": "2024-03-15T19:45:23.627910Z",
     "iopub.status.idle": "2024-03-15T19:46:23.314500Z",
     "shell.execute_reply": "2024-03-15T19:46:23.313315Z"
    },
    "papermill": {
     "duration": 65.187634,
     "end_time": "2024-03-15T19:46:23.316908",
     "exception": false,
     "start_time": "2024-03-15T19:45:18.129274",
     "status": "completed"
    },
    "tags": []
   },
   "outputs": [
    {
     "name": "stdout",
     "output_type": "stream",
     "text": [
      "RandomForestClassifier\n",
      "F1 Score on Test data 0.691\n"
     ]
    }
   ],
   "source": [
    "rf = RandomForestClassifier(n_estimators=150)\n",
    "test_model(rf,X_new,y,X_new_test,y_testt)"
   ]
  },
  {
   "cell_type": "code",
   "execution_count": 38,
   "id": "031362e5",
   "metadata": {
    "execution": {
     "iopub.execute_input": "2024-03-15T19:46:34.335216Z",
     "iopub.status.busy": "2024-03-15T19:46:34.334762Z",
     "iopub.status.idle": "2024-03-15T19:46:35.308100Z",
     "shell.execute_reply": "2024-03-15T19:46:35.306765Z"
    },
    "id": "transparent-latest",
    "papermill": {
     "duration": 6.58222,
     "end_time": "2024-03-15T19:46:35.311025",
     "exception": false,
     "start_time": "2024-03-15T19:46:28.728805",
     "status": "completed"
    },
    "tags": []
   },
   "outputs": [],
   "source": [
    "import pickle\n",
    "#save the model\n",
    "file = open(\"knn_model.pkl\", 'wb')\n",
    "pickle.dump(knn, file)\n",
    "file = open(\"rf_model.pkl\",'wb')\n",
    "pickle.dump(rf, file)\n",
    "file = open(\"svc_model.pkl\", 'wb')\n",
    "pickle.dump(svc, file)"
   ]
  }
 ],
 "metadata": {
  "kaggle": {
   "accelerator": "none",
   "dataSources": [
    {
     "datasetId": 5793,
     "sourceId": 9812,
     "sourceType": "datasetVersion"
    }
   ],
   "dockerImageVersionId": 30626,
   "isGpuEnabled": false,
   "isInternetEnabled": true,
   "language": "python",
   "sourceType": "notebook"
  },
  "kernelspec": {
   "display_name": "Python 3",
   "language": "python",
   "name": "python3"
  },
  "language_info": {
   "codemirror_mode": {
    "name": "ipython",
    "version": 3
   },
   "file_extension": ".py",
   "mimetype": "text/x-python",
   "name": "python",
   "nbconvert_exporter": "python",
   "pygments_lexer": "ipython3",
   "version": "3.10.12"
  },
  "papermill": {
   "default_parameters": {},
   "duration": 9523.000398,
   "end_time": "2024-03-15T19:46:42.094386",
   "environment_variables": {},
   "exception": null,
   "input_path": "__notebook__.ipynb",
   "output_path": "__notebook__.ipynb",
   "parameters": {},
   "start_time": "2024-03-15T17:07:59.093988",
   "version": "2.4.0"
  }
 },
 "nbformat": 4,
 "nbformat_minor": 5
}
